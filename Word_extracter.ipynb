{
 "cells": [
  {
   "cell_type": "code",
   "execution_count": null,
   "metadata": {
    "id": "pTN8wTVJQIZv"
   },
   "outputs": [],
   "source": [
    "nltk.download('stopwords')\n",
    "nltk.download('punkt')\n",
    "nltk.download('wordnet')"
   ]
  },
  {
   "cell_type": "code",
   "execution_count": null,
   "metadata": {
    "id": "Y9IE_ryCC8Ou"
   },
   "outputs": [],
   "source": [
    "import os\n",
    "from google.colab import drive\n",
    "drive.mount('/content/drive')\n",
    "import nltk\n",
    "from nltk.probability import FreqDist\n",
    "from nltk.tokenize import word_tokenize\n",
    "from nltk.corpus import stopwords  \n",
    "stop_words = set(stopwords.words('english'))\n",
    "import regex as re\n",
    "import email\n",
    "from email import policy\n",
    "from nltk.tokenize import RegexpTokenizer\n",
    "\n",
    "tokenizer = RegexpTokenizer(r'\\w+')"
   ]
  },
  {
   "cell_type": "code",
   "execution_count": 48,
   "metadata": {
    "id": "2DYLGRYRDUC-"
   },
   "outputs": [],
   "source": [
    "word='yankee'\n",
    "directory='drive/My Drive/Ericsson docs'"
   ]
  },
  {
   "cell_type": "code",
   "execution_count": 18,
   "metadata": {
    "id": "Nm7ljp1yK-xv"
   },
   "outputs": [],
   "source": [
    "def doc_identifier(word):\n",
    "    lst=[]\n",
    "    for entry in os.scandir(directory):\n",
    "        string = open(entry, 'r').read()\n",
    "        if word in string.lower():\n",
    "            lst.append(entry)\n",
    "    return lst"
   ]
  },
  {
   "cell_type": "code",
   "execution_count": 55,
   "metadata": {
    "colab": {
     "base_uri": "https://localhost:8080/"
    },
    "id": "fPVbjb3mLV3F",
    "outputId": "a934987a-8ef1-4188-d0a4-c4878121a879"
   },
   "outputs": [
    {
     "data": {
      "text/plain": [
       "[<DirEntry '0005.txt'>,\n",
       " <DirEntry '0001.txt'>,\n",
       " <DirEntry '0034.txt'>,\n",
       " <DirEntry '0041.txt'>,\n",
       " <DirEntry '0038.txt'>,\n",
       " <DirEntry '0091.txt'>,\n",
       " <DirEntry '0088.txt'>,\n",
       " <DirEntry '0100.txt'>,\n",
       " <DirEntry '0182.txt'>,\n",
       " <DirEntry '0220.txt'>,\n",
       " <DirEntry '0185.txt'>,\n",
       " <DirEntry '0250.txt'>,\n",
       " <DirEntry '0227.txt'>]"
      ]
     },
     "execution_count": 55,
     "metadata": {
      "tags": []
     },
     "output_type": "execute_result"
    }
   ],
   "source": [
    "doc_list=doc_identifier(word)"
   ]
  },
  {
   "cell_type": "code",
   "execution_count": 27,
   "metadata": {
    "colab": {
     "base_uri": "https://localhost:8080/"
    },
    "id": "E55gwxkQDnXP",
    "outputId": "8a379c37-923a-42c3-d1e3-4b2ae1268c4c"
   },
   "outputs": [
    {
     "data": {
      "text/plain": [
       "[\"Hi all,   I got tired of waiting for a mailing list so I am going to make one.... just send me your complete e-mail address on your message and I'll send you a confirmation and the Yankee mailing list address  -john  GO YANKEES!!!  \",\n",
       " 'Houston Astros  1  Seattle Mariners 1 >Montreal Expos  2  Toronto Blue Jays 3 >New York Mets  3  Oakland Athletics 2 >Colorado Rockies 5  Detroit Tigers  3 >Pittsburgh Pirates 5  Kansas City Royals 5 >San Diego Padres 4 (13)  New York Yankees 4 >St. Louis Cardinals 4  Cleveland Indians 3 >Los Angeles Dodgers 2  Boston Red Sox  4 (13) >Atlanta Braves  1  California Angels     PPD >San Francisco Giants 6  Milwaukee Brewers    RAIN  This leads me to believe that it\\'s not really a rabbitball year, and that we\\'ve just had a rash of high-scoring games.  I bet this one day\\'s worth of games pulled everything back to close to average.  Interesting, because the other day, all but three games had ten or more runs scored, and yesterday no game had more than nine. --  ted frank                 |  thf2@kimbark.uchicago.edu |         I\\'m sorry, the card says \"Moops.\" the u of c law school     |  standard disclaimers      |   ',\n",
       " \"In article <1993Apr14.175545.3528@alleg.edu>, millits@yankee.org (Sam Millitello) says:  i'm telling you, sam, three l's.  call up mom and ask.  bob vesterman.   \",\n",
       " 'From: aa649@Freenet.carleton.ca (Ralph Timmerman) >Subject: Re: YANKKES 1 GAME CLOSER >Date: Tue, 6 Apr 1993 23:38:05 GMT   >In a previous article, 002251w@axe.acadiau.ca (JASON WALTER WORKS) says:  >>    The N.Y.Yankees, are now one game closer to the A.L.East pennant.  They  >>clobbered Cleveland, 9-1, on a fine pitching performance by Key, and two  >>homeruns by Tartabull(first M.L.baseball to go out this season), and a three  >>run homer by Nokes.  For all of you who didn\\'t pick Boggs in your pools,  >>tough break, he had a couple hits, and drove in a couple runs(with many more  >>to follow).  The Yanks beat an up and coming team of youngsters in the  >>Indians.  The Yankees only need to win 95 more games to get the division. >> GO YANKS., Mattingly for g.glove, and MVP, and Abbot for Cy Young. >> >>                                             ---> jason. >>  >Does that mean we have to read this drivel another 95 times this season? >Please spare us... And check you facts before you post! >--  >Ralph Timmerman                      \"There is no life after baseball\"       >aa649@freenet.carleton.ca    No one says you have to read any of it Ralph.. Go play in traffic.., or take  a nap... They work for me..   ========================================================================= |  Kevin Kerr                                kkerr@mkcase1.dseg.ti.com  |                                                                       # |  President North Texas \\'C\\' Programmers Users Group                    | |  BBS-(214) 442-0223                                                   | |  GO YANKEES !!!   GO DOLPHINS !!!                                     | |                                                                       | |  \"Strolling through cyberspace, sniffing the electric wind....\"       | =========================================================================  ',\n",
       " \"       MLB Standings and Scores for Tuesday, April 6th, 1993                   (including yesterday's games)  NATIONAL WEST       Won  Lost   Pct.    GB   Last 10   Streak    Home   Road Atlanta Braves         01   00   1.000    --     1-0      Won 1   00-00  01-00 Cincinnati Reds        01   00   1.000    --     1-0      Won 1   01-00  00-00 San Diego Padres       00   00    .000   0.5     0-0       ---    00-00  00-00 San Francisco Giants   00   00    .000   0.5     0-0       ---    00-00  00-00 Colorado Rockies       00   01    .000   1.0     0-1     Lost 1   00-00  00-01 Houston Astros         00   01    .000   1.0     0-1     Lost 1   00-01  00-00 Los Angeles Dodgers    00   01    .000   1.0     0-1     Lost 1   00-00  00-01  NATIONAL EAST Florida Marlins        01   00   1.000    --     1-0      Won 1   01-00  00-00 New York Mets          01   00   1.000    --     1-0      Won 1   01-00  00-00 Philadelphia Phillies  01   00   1.000    --     1-0      Won 1   00-00  01-00 Pittsburgh Pirates     00   00    .000   0.5     0-0       ---    00-00  00-00 St. Louis Cardinals    00   00    .000   0.5     0-0       ---    00-00  00-00 Chicago Cubs           00   01    .000   1.0     0-1     Lost 1   00-01  00-00 Montreal Expos         00   01    .000   1.0     0-1     Lost 1   00-00  00-01   AMERICAN WEST         Won  Lost   Pct.    GB   Last 10   Streak    Home   Road Oakland Athletics      01   00   1.000    --     1-0      Won 1   01-00  00-00 Texas Rangers          01   00   1.000    --     1-0      Won 1   00-00  01-00 California Angels      00   00    .000   0.5     0-0       ---    00-00  00-00 Chicago White Sox      00   00    .000   0.5     0-0       ---    00-00  00-00 Minnesota Twins        00   00    .000   0.5     0-0       ---    00-00  00-00 Seattle Mariners       00   00    .000   0.5     0-0       ---    00-00  00-00 Kansas City Royals     00   01    .000   1.0     0-1     Lost 1   00-01  00-00  AMERICAN EAST Boston Red Sox         01   00   1.000    --     1-0      Won 1   00-00  01-00 New York Yankees       01   00   1.000    --     1-0      Won 1   00-00  01-00 Milwaukee Brewers      00   00    .000   0.5     0-0       ---    00-00  00-00 Toronto Blue Jays      00   00    .000   0.5     0-0       ---    00-00  00-00 Baltimore Orioles      00   01    .000   1.0     0-1     Lost 1   00-01  00-00 Cleveland Indians      00   01    .000   1.0     0-1     Lost 1   00-01  00-00 Detroit Tigers         00   01    .000   1.0     0-1     Lost 1   00-00  00-01           YESTERDAY'S SCORES  NATIONAL LEAGUE    AMERICAN LEAGUE  Montreal 1   New York 9 Cincinnati 2   Cleveland 1  Atlanta  1   Texas  7 Chicago  0   Baltimore 4  Los Angeles 3   Boston  3 Florida  6   Kansas City 1  Philadelphia 3   Detroit  4 Houston  1   Oakland  9  Colorado 0   California   IDLE New York 3   Chicago      IDLE    Pittsburgh   IDLE   Milwaukee    IDLE St. Louis    IDLE   Minnesota    IDLE  San Diego    IDLE   Seattle      IDLE San FranciscoIDLE   Toronto      IDLE --  ------------------------------------------------------------------------------- Joseph Hernandez          |    RAMS  | |    /.\\\\  ******* _|_|_  / |   LAKERS jtchern@ocf.Berkeley.EDU  |   KINGS  | |__ |   | DODGERS _|_|_  | |   RAIDERS jtcent@soda.Berkeley.EDU  |  ANGELS  |____||_|_| *******  | |  |___|  CLIPPERS -------------------------------------------------------------------------------  \",\n",
       " ' >> >National League West > >> > Cincinnati      ---- > >> > Houston          5.0 > >> > Atlanta          8.0 > >> ARGH! Here is where you are obviously dead wrong. Not since the Yankees  > >> of the 20\\'s and 30\\'s has a team been so nicely setup as this years(and  > >> years to come) Braves. I don\\'t think that the All-Star team will be able   > >This may be an appropriate comparison. > >The 1929-31 Yankees finshed 2nd, 3rd and 2nd finshing  > >18, 16 and 13-1/2 games out of first.  > >In 1933,\\'34 and \\'35 they also finished second ( though they were only > >7, 7 and 3 games out). > >Even great teams can lose - That\\'s why they play the season. > >(on the other hand... I\\'m still picking the Braves to go all the way)  > Um, surely you didn\\'t intend to compare the \\'93 Reds with the > 29 Philidelphia A\\'s.  The Yankees were finishing 2nd to > a team that was as good as the 26-28 Yankees, while the > Yankees had aged some from their peak years.  Ruth and Gehrig > couldn\\'t play every position simultaneously. >  > IMO, given the various ages of the Braves and Reds this season, > that the Braves will be closer to their peak, while the Reds > have slightly passed their peak. >  > Also, if you\\'re going to compare Braves and Yankees, a more appropriate > comparison to the \\'93 Braves might be the \\'23 Yankees.   > After falling short two years in a row in exciting World Series, >  both teams won/will win the Series this year, despite the > heroics of some old fart on the other team.  > (Casey Stengel/ Dave Winfield???)  Perhaps so. I was only responding to the \"Yankees of the 20\\'s and 30\\'s\"  part of the comment. If those teams were a \\'sure thing\\' and lost,  then it\\'s probably not so unreasonable for someone to pick another  team (not that I did).  john rickert rickert@nextwork.rose-hulman.edu Go Brewers!  ',\n",
       " ' >  > > Is the Chicago Tribune baseball coverage any good?  Does the New York Times > > have daily coverage/boxscores? >  > I don\\'t know about the Tribune but the Times has daily coverage and   boxscores. > Of course, they have special emphasis on the Yankees and Mets  Beware.  The original poster looks to be from Louisville, and chances are   Louisville gets the edition of the NYTimes that is printed in Chicago for the   MidWest.  This edition has boxscores only on Monday (and Sunday) and an   extremely skimpy sports section (few game summaries, mostly just color   stories). -- Bradley W. Brock, Department of Mathematics Rose-Hulman Institute of Technology  | \"Resist not evil.... Love your enemies.\" brock@nextwork.rose-hulman.edu       | --some Nazarene carpenter  ']"
      ]
     },
     "execution_count": 27,
     "metadata": {
      "tags": []
     },
     "output_type": "execute_result"
    }
   ],
   "source": [
    "mess=[]\n",
    "for doc in doc_list:\n",
    "    with open(doc,\"r\") as f:\n",
    "        string = f.read()\n",
    "        msg=email.message_from_string(string)\n",
    "    for part in msg.walk():\n",
    "        if part.get_content_type() == 'text/plain':\n",
    "            add=part.get_payload()\n",
    "            add = add.replace('\\n', ' ').replace('\\t', ' ')\n",
    "            add = re.sub(r'^[In article].*: >+', '', add)\n",
    "            mess.append(add)\n",
    "mess"
   ]
  },
  {
   "cell_type": "code",
   "execution_count": 33,
   "metadata": {
    "id": "-LRyodLj-jhf"
   },
   "outputs": [],
   "source": [
    "from nltk.stem import WordNetLemmatizer \n",
    "  \n",
    "lemmatizer = WordNetLemmatizer()"
   ]
  },
  {
   "cell_type": "code",
   "execution_count": 56,
   "metadata": {
    "id": "PjMcRLnk0I8p"
   },
   "outputs": [],
   "source": [
    "for ele,doc in zip(mess,doc_list):\n",
    "    words= lemmatizer.lemmatize(ele.lower())\n",
    "    words = tokenizer.tokenize(words)\n",
    "    filtered_sentence = [w for w in words if not w in stop_words]\n",
    "    fdist = FreqDist(filtered_sentence)\n",
    "    dic[doc]=fdist[word]+fdist[word+'s'] "
   ]
  },
  {
   "cell_type": "code",
   "execution_count": 57,
   "metadata": {
    "colab": {
     "base_uri": "https://localhost:8080/"
    },
    "id": "x8MpK4RKj64I",
    "outputId": "7386db9f-f618-48a5-8438-a07e1e3fee2b"
   },
   "outputs": [
    {
     "data": {
      "text/plain": [
       "{<DirEntry '0001.txt'>: 1,\n",
       " <DirEntry '0005.txt'>: 2,\n",
       " <DirEntry '0034.txt'>: 1,\n",
       " <DirEntry '0038.txt'>: 1,\n",
       " <DirEntry '0041.txt'>: 3,\n",
       " <DirEntry '0088.txt'>: 1,\n",
       " <DirEntry '0091.txt'>: 8}"
      ]
     },
     "execution_count": 57,
     "metadata": {
      "tags": []
     },
     "output_type": "execute_result"
    }
   ],
   "source": [
    "dic"
   ]
  }
 ],
 "metadata": {
  "colab": {
   "collapsed_sections": [],
   "name": "Word extracter",
   "provenance": []
  },
  "kernelspec": {
   "display_name": "Python 3 (ipykernel)",
   "language": "python",
   "name": "python3"
  },
  "language_info": {
   "codemirror_mode": {
    "name": "ipython",
    "version": 3
   },
   "file_extension": ".py",
   "mimetype": "text/x-python",
   "name": "python",
   "nbconvert_exporter": "python",
   "pygments_lexer": "ipython3",
   "version": "3.8.12"
  }
 },
 "nbformat": 4,
 "nbformat_minor": 1
}
