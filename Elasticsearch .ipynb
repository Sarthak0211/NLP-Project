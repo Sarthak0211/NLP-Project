{
 "cells": [
  {
   "cell_type": "markdown",
   "metadata": {},
   "source": [
    "## Importing the elastic search modules"
   ]
  },
  {
   "cell_type": "code",
   "execution_count": 3,
   "metadata": {},
   "outputs": [],
   "source": [
    "from elasticsearch import Elasticsearch, helpers\n",
    "import pandas as pd\n",
    "es = Elasticsearch()\n",
    "import json,requests"
   ]
  },
  {
   "cell_type": "markdown",
   "metadata": {},
   "source": [
    "### I sent a GET request to my local host to verify that the index- 'ericsson' has indeed been created."
   ]
  },
  {
   "cell_type": "code",
   "execution_count": 2,
   "metadata": {},
   "outputs": [
    {
     "name": "stdout",
     "output_type": "stream",
     "text": [
      "b'{\"ericsson\":{\"aliases\":{},\"mappings\":{\"properties\":{\"file_loc\":{\"type\":\"text\",\"fields\":{\"keyword\":{\"type\":\"keyword\",\"ignore_above\":256}}},\"keywords\":{\"type\":\"text\",\"fields\":{\"keyword\":{\"type\":\"keyword\",\"ignore_above\":256}}},\"summary\":{\"type\":\"text\",\"fields\":{\"keyword\":{\"type\":\"keyword\",\"ignore_above\":256}}}}},\"settings\":{\"index\":{\"routing\":{\"allocation\":{\"include\":{\"_tier_preference\":\"data_content\"}}},\"number_of_shards\":\"1\",\"provided_name\":\"ericsson\",\"creation_date\":\"1607066569976\",\"number_of_replicas\":\"1\",\"uuid\":\"jqMLhP2USEaEpmPrIN8ukw\",\"version\":{\"created\":\"7100099\"}}}}}'\n"
     ]
    }
   ],
   "source": [
    "res = requests.get('http://localhost:9200/ericsson')\n",
    "print (res.content)\n",
    "es = Elasticsearch([{'ost': 'localhost', 'port': '9200'}])"
   ]
  },
  {
   "cell_type": "markdown",
   "metadata": {},
   "source": [
    "### I then accessed the dataframe and removed any unnecassary elements in the file name"
   ]
  },
  {
   "cell_type": "code",
   "execution_count": 4,
   "metadata": {},
   "outputs": [],
   "source": [
    "df=pd.read_csv('data.csv',index_col=0)\n",
    "df['file_loc'] = df['file_loc'].str[2:-3]\n",
    "for i in range(len(df)):\n",
    "    df.iloc[i]['keywords'] = df.iloc[i]['keywords'][1:-1].replace(\"'\",\"\")"
   ]
  },
  {
   "cell_type": "code",
   "execution_count": 5,
   "metadata": {
    "scrolled": true
   },
   "outputs": [
    {
     "data": {
      "text/html": [
       "<div>\n",
       "<style scoped>\n",
       "    .dataframe tbody tr th:only-of-type {\n",
       "        vertical-align: middle;\n",
       "    }\n",
       "\n",
       "    .dataframe tbody tr th {\n",
       "        vertical-align: top;\n",
       "    }\n",
       "\n",
       "    .dataframe thead th {\n",
       "        text-align: right;\n",
       "    }\n",
       "</style>\n",
       "<table border=\"1\" class=\"dataframe\">\n",
       "  <thead>\n",
       "    <tr style=\"text-align: right;\">\n",
       "      <th></th>\n",
       "      <th>file_loc</th>\n",
       "      <th>keywords</th>\n",
       "      <th>summary</th>\n",
       "    </tr>\n",
       "  </thead>\n",
       "  <tbody>\n",
       "    <tr>\n",
       "      <th>0</th>\n",
       "      <td>Peri K</td>\n",
       "      <td>sarthak, concepts, numerical, teams, excellent...</td>\n",
       "      <td>Back Benchers Education  605 - 607, Bestech Ch...</td>\n",
       "    </tr>\n",
       "    <tr>\n",
       "      <th>1</th>\n",
       "      <td>Accomplishments</td>\n",
       "      <td>vit, school, team, member, finalist, organizat...</td>\n",
       "      <td>Chapter Coordinator, Think For All (2011–2015)...</td>\n",
       "    </tr>\n",
       "    <tr>\n",
       "      <th>2</th>\n",
       "      <td>MAM Application Essays</td>\n",
       "      <td>data, business, question, management, world, a...</td>\n",
       "      <td>MAM Application Questions    Masters in Analyt...</td>\n",
       "    </tr>\n",
       "    <tr>\n",
       "      <th>3</th>\n",
       "      <td>Sarthak_MAM Application Essays</td>\n",
       "      <td>data, business, like, financial, courses, mana...</td>\n",
       "      <td>MAM Application Questions    Masters in Analyt...</td>\n",
       "    </tr>\n",
       "    <tr>\n",
       "      <th>4</th>\n",
       "      <td>Sarthak_SOP_CMU</td>\n",
       "      <td>data, technology, academics, experience, advan...</td>\n",
       "      <td>USER ID- bhargavasarthak99@gmail.com  The adve...</td>\n",
       "    </tr>\n",
       "    <tr>\n",
       "      <th>5</th>\n",
       "      <td>PH_Sarthak</td>\n",
       "      <td>years, remain, sheer, different, greatly, majo...</td>\n",
       "      <td>Cosmos a spacetime odyssey was a documentary t...</td>\n",
       "    </tr>\n",
       "    <tr>\n",
       "      <th>6</th>\n",
       "      <td>Sarthak_SOP_Col</td>\n",
       "      <td>academic, data, extensive, technology, experie...</td>\n",
       "      <td>Sarthak Bhargava  The ubiquitous expansion of ...</td>\n",
       "    </tr>\n",
       "    <tr>\n",
       "      <th>7</th>\n",
       "      <td>Sarthak_NTU_Essay_1</td>\n",
       "      <td>technologies, academic, study, problems, caree...</td>\n",
       "      <td>Sarthak Bhargava  The domain of Analytics is b...</td>\n",
       "    </tr>\n",
       "    <tr>\n",
       "      <th>8</th>\n",
       "      <td>Essay 2</td>\n",
       "      <td>business, analytics, career, pioneering, core,...</td>\n",
       "      <td>Sarthak Bhargava  My affinity towards numbers ...</td>\n",
       "    </tr>\n",
       "    <tr>\n",
       "      <th>9</th>\n",
       "      <td>101120</td>\n",
       "      <td>data, technology, academics, experience, progr...</td>\n",
       "      <td>The advent of Computers in 1940s drastically c...</td>\n",
       "    </tr>\n",
       "  </tbody>\n",
       "</table>\n",
       "</div>"
      ],
      "text/plain": [
       "                         file_loc  \\\n",
       "0                          Peri K   \n",
       "1                 Accomplishments   \n",
       "2          MAM Application Essays   \n",
       "3  Sarthak_MAM Application Essays   \n",
       "4                 Sarthak_SOP_CMU   \n",
       "5                      PH_Sarthak   \n",
       "6                 Sarthak_SOP_Col   \n",
       "7             Sarthak_NTU_Essay_1   \n",
       "8                         Essay 2   \n",
       "9                          101120   \n",
       "\n",
       "                                            keywords  \\\n",
       "0  sarthak, concepts, numerical, teams, excellent...   \n",
       "1  vit, school, team, member, finalist, organizat...   \n",
       "2  data, business, question, management, world, a...   \n",
       "3  data, business, like, financial, courses, mana...   \n",
       "4  data, technology, academics, experience, advan...   \n",
       "5  years, remain, sheer, different, greatly, majo...   \n",
       "6  academic, data, extensive, technology, experie...   \n",
       "7  technologies, academic, study, problems, caree...   \n",
       "8  business, analytics, career, pioneering, core,...   \n",
       "9  data, technology, academics, experience, progr...   \n",
       "\n",
       "                                             summary  \n",
       "0  Back Benchers Education  605 - 607, Bestech Ch...  \n",
       "1  Chapter Coordinator, Think For All (2011–2015)...  \n",
       "2  MAM Application Questions    Masters in Analyt...  \n",
       "3  MAM Application Questions    Masters in Analyt...  \n",
       "4  USER ID- bhargavasarthak99@gmail.com  The adve...  \n",
       "5  Cosmos a spacetime odyssey was a documentary t...  \n",
       "6  Sarthak Bhargava  The ubiquitous expansion of ...  \n",
       "7  Sarthak Bhargava  The domain of Analytics is b...  \n",
       "8  Sarthak Bhargava  My affinity towards numbers ...  \n",
       "9  The advent of Computers in 1940s drastically c...  "
      ]
     },
     "execution_count": 5,
     "metadata": {},
     "output_type": "execute_result"
    }
   ],
   "source": [
    "df"
   ]
  },
  {
   "cell_type": "markdown",
   "metadata": {},
   "source": [
    "I set file_loc as the key so that can be used as an id"
   ]
  },
  {
   "cell_type": "code",
   "execution_count": 192,
   "metadata": {},
   "outputs": [],
   "source": [
    "df.set_index('file_loc',inplace=True)"
   ]
  },
  {
   "cell_type": "code",
   "execution_count": 193,
   "metadata": {},
   "outputs": [],
   "source": [
    "dic=df.T.to_dict('dict')"
   ]
  },
  {
   "cell_type": "code",
   "execution_count": 194,
   "metadata": {},
   "outputs": [
    {
     "data": {
      "text/plain": [
       "{'keywords': 'sarthak, concepts, numerical, teams, excellent, education, science, vit, kameswaran, methods, time, achievements, differential, individual, opportunities, interpolation, assignments, exceptional, solving',\n",
       " 'summary': 'Back Benchers Education  605 - 607, Bestech Chambers,  Radisson Blu, Gurgaon         LOR Suggestions    In a letter specify:  How does the recommender know the applicant? As a member of my class, he was participative and enhanced the learning of the entire class. Apart from his excellent academic performance, he took part in the annual Math-a-thon which was organized by me and several other SAS faculties.'}"
      ]
     },
     "execution_count": 194,
     "metadata": {},
     "output_type": "execute_result"
    }
   ],
   "source": [
    "dic['Peri K']"
   ]
  },
  {
   "cell_type": "markdown",
   "metadata": {},
   "source": [
    " Pushing the content in the dictionary to the elasticsearch server"
   ]
  },
  {
   "cell_type": "code",
   "execution_count": null,
   "metadata": {},
   "outputs": [],
   "source": [
    "for doc in list(dic.keys()):\n",
    "    res = es.index(index='ericsson',doc_type='doc',id=doc,body=dic[doc]) "
   ]
  },
  {
   "cell_type": "markdown",
   "metadata": {},
   "source": [
    "Sending a GET call to the server to verify the entire process"
   ]
  },
  {
   "cell_type": "code",
   "execution_count": 6,
   "metadata": {},
   "outputs": [
    {
     "name": "stderr",
     "output_type": "stream",
     "text": [
      "C:\\Users\\sarth\\anaconda3\\lib\\site-packages\\elasticsearch\\connection\\base.py:190: ElasticsearchDeprecationWarning: [types removal] Specifying types in document get requests is deprecated, use the /{index}/_doc/{id} endpoint instead.\n",
      "  warnings.warn(message, category=ElasticsearchDeprecationWarning)\n"
     ]
    }
   ],
   "source": [
    "res=es.get(index='ericsson',doc_type='doc',id='0')"
   ]
  },
  {
   "cell_type": "code",
   "execution_count": 7,
   "metadata": {},
   "outputs": [
    {
     "name": "stdout",
     "output_type": "stream",
     "text": [
      "{'_index': 'ericsson', '_type': 'doc', '_id': '0', '_version': 1, '_seq_no': 0, '_primary_term': 2, 'found': True, '_source': {'file_loc': \"['Peri K.']\", 'keywords': \"['sarthak', 'concepts', 'numerical', 'teams', 'excellent', 'education', 'science', 'vit', 'kameswaran', 'methods', 'time', 'achievements', 'differential', 'individual', 'opportunities', 'interpolation', 'assignments', 'exceptional', 'solving']\", 'summary': 'Back Benchers Education  605 - 607, Bestech Chambers,  Radisson Blu, Gurgaon         LOR Suggestions    In a letter specify:  How does the recommender know the applicant? As a member of my class, he was participative and enhanced the learning of the entire class. Apart from his excellent academic performance, he took part in the annual Math-a-thon which was organized by me and several other SAS faculties.'}}\n"
     ]
    }
   ],
   "source": [
    "print(res)"
   ]
  },
  {
   "cell_type": "markdown",
   "metadata": {},
   "source": [
    "We can see the process has been successful and our data can now be accessed from the es database"
   ]
  }
 ],
 "metadata": {
  "kernelspec": {
   "display_name": "Python 3 (ipykernel)",
   "language": "python",
   "name": "python3"
  },
  "language_info": {
   "codemirror_mode": {
    "name": "ipython",
    "version": 3
   },
   "file_extension": ".py",
   "mimetype": "text/x-python",
   "name": "python",
   "nbconvert_exporter": "python",
   "pygments_lexer": "ipython3",
   "version": "3.8.12"
  }
 },
 "nbformat": 4,
 "nbformat_minor": 4
}
